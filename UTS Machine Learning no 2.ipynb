{
  "nbformat": 4,
  "nbformat_minor": 0,
  "metadata": {
    "colab": {
      "provenance": [],
      "toc_visible": true,
      "authorship_tag": "ABX9TyNyPCYbC/kx6D4oVRVhXup5",
      "include_colab_link": true
    },
    "kernelspec": {
      "name": "python3",
      "display_name": "Python 3"
    },
    "language_info": {
      "name": "python"
    }
  },
  "cells": [
    {
      "cell_type": "markdown",
      "metadata": {
        "id": "view-in-github",
        "colab_type": "text"
      },
      "source": [
        "<a href=\"https://colab.research.google.com/github/212310059/PW_Rizki_Ramdani/blob/main/UTS%20Machine%20Learning%20no%202.ipynb\" target=\"_parent\"><img src=\"https://colab.research.google.com/assets/colab-badge.svg\" alt=\"Open In Colab\"/></a>"
      ]
    },
    {
      "cell_type": "code",
      "execution_count": null,
      "metadata": {
        "id": "7gWdNgEpPUAw"
      },
      "outputs": [],
      "source": []
    },
    {
      "cell_type": "code",
      "source": [
        "import pandas as pd\n",
        "\n",
        "# Membaca Dataset\n",
        "url = \"https://raw.githubusercontent.com/isnanmulia/lecture-datasets/main/mobileprice_modified.csv\"\n",
        "data = pd.read_csv(url)\n",
        "\n",
        "# Memisahkan atribut predikat dan label\n",
        "X = data.drop(columns=[\"price_range\"])\n",
        "y = data[\"price_range\"]\n",
        "\n",
        "print(\"Missing values per kolom sebelum pengisian:\")\n",
        "print(X.isnull().sum())\n",
        "\n",
        "X.fillna(X.mean(), inplace=True)\n",
        "\n",
        "print(\"Missing values per kolom setelah pengisian:\")\n",
        "print(X.isnull().sum())\n",
        "\n",
        "from sklearn.impute import SimpleImputer\n",
        "\n",
        "# Mengisi nilai missing dengan rata2 pada setiap kolom\n",
        "imputer = SimpleImputer(strategy=\"mean\")\n",
        "X_imputed = pd.DataFrame(imputer.fit_transform(X), columns=X.columns)\n",
        "\n",
        "from sklearn.preprocessing import StandardScaler\n",
        "\n",
        "# Standarisasi nilai atribut prediktor\n",
        "scaler = StandardScaler()\n",
        "X_scaled = pd.DataFrame(scaler.fit_transform(X_imputed), columns=X.columns)\n",
        "\n",
        "# Statistik deskriptif sebelum dan sesudah pre-processing\n",
        "print(\"Statistik sebelum imputasi:\")\n",
        "print(X.describe())\n",
        "print(\"Statistik setelah imputasi dan standarisasi:\")\n",
        "print(X_scaled.describe())"
      ],
      "metadata": {
        "colab": {
          "base_uri": "https://localhost:8080/"
        },
        "id": "uXS-fcTWFkw2",
        "outputId": "63a84fdf-e12b-4f35-d406-93ca71ee7ed9"
      },
      "execution_count": null,
      "outputs": [
        {
          "output_type": "stream",
          "name": "stdout",
          "text": [
            "Silhouette Score: 0.05746542779025056\n"
          ]
        }
      ]
    }
  ]
}