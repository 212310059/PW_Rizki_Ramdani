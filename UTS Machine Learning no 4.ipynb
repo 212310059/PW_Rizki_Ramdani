{
  "nbformat": 4,
  "nbformat_minor": 0,
  "metadata": {
    "colab": {
      "provenance": [],
      "authorship_tag": "ABX9TyM87PM2s1eB8G8OWD+DKCHT",
      "include_colab_link": true
    },
    "kernelspec": {
      "name": "python3",
      "display_name": "Python 3"
    },
    "language_info": {
      "name": "python"
    }
  },
  "cells": [
    {
      "cell_type": "markdown",
      "metadata": {
        "id": "view-in-github",
        "colab_type": "text"
      },
      "source": [
        "<a href=\"https://colab.research.google.com/github/212310059/PW_Rizki_Ramdani/blob/main/UTS%20Machine%20Learning%20no%204.ipynb\" target=\"_parent\"><img src=\"https://colab.research.google.com/assets/colab-badge.svg\" alt=\"Open In Colab\"/></a>"
      ]
    },
    {
      "cell_type": "code",
      "execution_count": 5,
      "metadata": {
        "id": "rzExcboHmGst",
        "outputId": "9ae07ef9-98cb-403a-8636-04914f74e69e",
        "colab": {
          "base_uri": "https://localhost:8080/"
        }
      },
      "outputs": [
        {
          "output_type": "stream",
          "name": "stdout",
          "text": [
            "Silhouette Score: 0.057504790336509584\n"
          ]
        }
      ],
      "source": [
        "import pandas as pd\n",
        "from sklearn.cluster import KMeans\n",
        "from sklearn.metrics import silhouette_score\n",
        "from sklearn.preprocessing import StandardScaler\n",
        "from sklearn.impute import SimpleImputer # Import SimpleImputer\n",
        "\n",
        "# Membaca Dataset\n",
        "url = \"https://raw.githubusercontent.com/isnanmulia/lecture-datasets/main/mobileprice_modified.csv\"\n",
        "data = pd.read_csv(url)\n",
        "\n",
        "# Memisahkan atribut predikat dan label\n",
        "X = data.drop(columns=[\"price_range\"])\n",
        "y = data[\"price_range\"]\n",
        "\n",
        "X = X.dropna()\n",
        "y = y[X.index]\n",
        "scaler = StandardScaler()\n",
        "X_scaled = scaler.fit_transform(X)\n",
        "\n",
        "# Melakukan clustering dengan K-means\n",
        "kmeans = KMeans(n_clusters=4, random_state=42)\n",
        "kmeans.fit(X_scaled) # Now use the scaled data\n",
        "\n",
        "# Menentukan label cluster untuk setiap data\n",
        "cluster_labels = kmeans.labels_\n",
        "\n",
        "# Menghitung S=silhouette score\n",
        "sil_score = silhouette_score(X_scaled, cluster_labels)\n",
        "print(f\"Silhouette Score: {sil_score}\")"
      ]
    }
  ]
}