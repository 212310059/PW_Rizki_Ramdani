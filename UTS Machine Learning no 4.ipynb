{
  "nbformat": 4,
  "nbformat_minor": 0,
  "metadata": {
    "colab": {
      "provenance": [],
      "authorship_tag": "ABX9TyNz5o5DbAsIrWWFEvXXV+BK",
      "include_colab_link": true
    },
    "kernelspec": {
      "name": "python3",
      "display_name": "Python 3"
    },
    "language_info": {
      "name": "python"
    }
  },
  "cells": [
    {
      "cell_type": "markdown",
      "metadata": {
        "id": "view-in-github",
        "colab_type": "text"
      },
      "source": [
        "<a href=\"https://colab.research.google.com/github/212310059/PW_Rizki_Ramdani/blob/main/UTS%20Machine%20Learning%20no%204.ipynb\" target=\"_parent\"><img src=\"https://colab.research.google.com/assets/colab-badge.svg\" alt=\"Open In Colab\"/></a>"
      ]
    },
    {
      "cell_type": "code",
      "execution_count": null,
      "metadata": {
        "id": "rzExcboHmGst"
      },
      "outputs": [],
      "source": [
        "import pandas as pd\n",
        "\n",
        "# Membaca Dataset\n",
        "url = \"https://raw.githubusercontent.com/isnanmulia/lecture-datasets/main/mobileprice_modified.csv\"\n",
        "data = pd.read_csv(url)\n",
        "\n",
        "# Memisahkan atribut predikat dan label\n",
        "X = data.drop(columns=[\"price_range\"])\n",
        "y = data[\"price_range\"]\n",
        "\n",
        "from sklearn.cluster import KMeans\n",
        "from sklearn.metrics import silhouette_score\n",
        "\n",
        "# Melakukan clustering dengan K-means\n",
        "kmeans = KMeans(n_clusters=4, random_state=42)\n",
        "kmeans.fit(X_scaled)\n",
        "\n",
        "# Menentukan label cluster untuk setiap data\n",
        "cluster_labels = kmeans.labels_\n",
        "\n",
        "# Menghitung S=silhouette score\n",
        "sil_score = silhouette_score(X_scaled, cluster_labels)\n",
        "print(f\"Silhouette Score: {sil_score}\")"
      ]
    }
  ]
}